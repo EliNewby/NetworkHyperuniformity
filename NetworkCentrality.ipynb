{
 "cells": [
  {
   "cell_type": "markdown",
   "id": "1f431daa-f7f0-4de4-a1e3-1ee3a4d99945",
   "metadata": {},
   "source": [
    "# Network Centrality QCD Analysis"
   ]
  },
  {
   "cell_type": "markdown",
   "id": "b7e164dc-f93b-4c33-a5b2-af0d55f0bd3b",
   "metadata": {},
   "source": [
    "Import relevant packages for analysis"
   ]
  },
  {
   "cell_type": "code",
   "execution_count": null,
   "id": "f9e65663-a869-407a-9be1-90dbfb8a42fb",
   "metadata": {},
   "outputs": [],
   "source": [
    "import pandas as pd\n",
    "import numpy as np\n",
    "import scipy.stats as sp\n",
    "import networkx as nx\n",
    "import matplotlib.pyplot as plt\n",
    "import seaborn as sb\n",
    "import pickle\n",
    "\n",
    "def distance(x1, y1, x2, y2):\n",
    "    return ((x2-x1)**2+(y2-y1)**2)**(1/2)"
   ]
  },
  {
   "cell_type": "markdown",
   "id": "f2a86fbc-c5e8-4753-b897-2296211903ca",
   "metadata": {},
   "source": [
    "This code has been tested and works with the following functions in networkx:<br>\n",
    "nx.degree_centrality,nx.closeness_centrality,nx.betweenness_centrality,nx.katz_centrality,nx.pagerank,nx.eccentricity<br>\n",
    "but it would also work with any other centrality measure in networkx that takes a weight as a parameter.<br>\n",
    "If you instead pass a float as the function, you can find the QCD of the number of nodes within that distance on the graph.<br>\n",
    "You can also pass the string \"Edge Centrality\" as the function to find the QCD of the edge weights."
   ]
  },
  {
   "cell_type": "code",
   "execution_count": 1,
   "id": "07aa5751-c771-4dc2-a1b0-24601377c8cd",
   "metadata": {},
   "outputs": [
    {
     "ename": "NameError",
     "evalue": "name 'nx' is not defined",
     "output_type": "error",
     "traceback": [
      "\u001b[1;31m---------------------------------------------------------------------------\u001b[0m",
      "\u001b[1;31mNameError\u001b[0m                                 Traceback (most recent call last)",
      "Cell \u001b[1;32mIn[1], line 4\u001b[0m\n\u001b[0;32m      1\u001b[0m \u001b[38;5;66;03m#measureNames = [\"Strength\",\"Closeness Centrality\",\"Betweenness Centrality\",\"Katz Centrality\",\"PageRank\",\"Eccentricity\",\"Edge Centrality\",0.10]\u001b[39;00m\n\u001b[0;32m      2\u001b[0m \u001b[38;5;66;03m#measureFuncs = [nx.degree_centrality,nx.closeness_centrality,nx.betweenness_centrality,nx.katz_centrality,nx.pagerank,nx.eccentricity,\"Edge Centrality\",]\u001b[39;00m\n\u001b[0;32m      3\u001b[0m measureNames \u001b[38;5;241m=\u001b[39m \u001b[38;5;124m\"\u001b[39m\u001b[38;5;124mStrength\u001b[39m\u001b[38;5;124m\"\u001b[39m\n\u001b[1;32m----> 4\u001b[0m measuresFunc \u001b[38;5;241m=\u001b[39m nx\u001b[38;5;241m.\u001b[39mdegree_centrality\n\u001b[0;32m      5\u001b[0m prop_cycle \u001b[38;5;241m=\u001b[39m plt\u001b[38;5;241m.\u001b[39mrcParams[\u001b[38;5;124m'\u001b[39m\u001b[38;5;124maxes.prop_cycle\u001b[39m\u001b[38;5;124m'\u001b[39m]\n\u001b[0;32m      6\u001b[0m colors \u001b[38;5;241m=\u001b[39m prop_cycle\u001b[38;5;241m.\u001b[39mby_key()[\u001b[38;5;124m'\u001b[39m\u001b[38;5;124mcolor\u001b[39m\u001b[38;5;124m'\u001b[39m]\n",
      "\u001b[1;31mNameError\u001b[0m: name 'nx' is not defined"
     ]
    }
   ],
   "source": [
    "#measureNames = [\"Strength\",\"Closeness Centrality\",\"Betweenness Centrality\",\"Katz Centrality\",\"PageRank\",\"Eccentricity\",\"Edge Centrality\",0.10]\n",
    "#measureFuncs = [nx.degree_centrality,nx.closeness_centrality,nx.betweenness_centrality,nx.katz_centrality,nx.pagerank,nx.eccentricity,\"Edge Centrality\",\"Nodes within distance 0.10\"]\n",
    "measureName = \"Strength\"\n",
    "measureFunc = nx.degree_centrality\n",
    "prop_cycle = plt.rcParams['axes.prop_cycle']\n",
    "colors = prop_cycle.by_key()['color']\n",
    "colors += [colors[0],colors[7],colors[8]]\n",
    "sb.set_theme()\n",
    "netDict = {0:'HIP', 1:'Poisson', 2:'RSA', 3:'Stealthy0.20', 4:'Stealthy0.40',5:'Stealthy0.49', 6: 'Triangular Lattice',7:\"Gaussian\"}\n",
    "netNameDict = {0:'HIP', 1:'Poisson', 2:'RSA', 3:'Stealthy0.20', 4:'Stealthy0.40',5:'Stealthy0.49', 6: 'Triangular Lattice',8:\"Erdos-Renyi\",7:\"Non-stealthy Hyperuniform\"}\n",
    "netHyperuniform = {0:False, 1:False, 2:False, 3:True, 4:True,5:True, 6:True, 7:True}\n",
    "\n",
    "for netNum in [0,1,2,3,4,5,7]:\n",
    "    print(netDict[netNum])\n",
    "    if(netNum == 1):\n",
    "        numTopos = 6\n",
    "    else:\n",
    "        numTopos = 10\n",
    "\n",
    "    vals = []\n",
    "    for topoNum in range(numTopos):\n",
    "        if(netNum == 7 and topoNum == 4):\n",
    "            continue\n",
    "        print(topoNum)\n",
    "        num = \"%02d\"%(topoNum+1)\n",
    "        G = nx.read_edgelist(\"Networks/\"+netDict[netNum]+'_'+num+'_delaunay_edgelist.txt', nodetype = int, data = [('distance',float)])\n",
    "        if(netNum > 2):\n",
    "            for edge in G.edges():\n",
    "                G.edges()[edge]['distance']/=100\n",
    "        for edge in G.edges():\n",
    "            G.edges()[edge]['strength'] = 1/G.edges()[edge]['distance']\n",
    "                \n",
    "        G = G.subgraph(max(list(nx.connected_components(G)),key = len))\n",
    "        #Centrality Analysis\n",
    "        if(callable(measureFunc)):\n",
    "            if(measureFunc == nx.degree_centrality):  \n",
    "                vals += [G.degree(n,weight='strength') for n in G.nodes()]\n",
    "            elif(measureFunc == nx.closeness_centrality):\n",
    "                vals += list(measureFunc(G, distance = 'distance').values())\n",
    "            elif(measureFunc == nx.eccentricity):\n",
    "                distDict = dict(nx.all_pairs_dijkstra_path_length(G, weight = 'distance'))\n",
    "                vals += list(measureFunc(G,sp=distDict).values())\n",
    "            else:\n",
    "                vals += list(measureFunc(G, weight = 'distance').values())\n",
    "        elif(type(measureFunc) == float):\n",
    "                dist = measureFunc\n",
    "                pct = 10\n",
    "                for node in nodes:\n",
    "                    G2 = nx.ego_graph(G,node,radius=dist,distance='distance')\n",
    "                    vals.append(len(G2))\n",
    "        elif(measureFunc == \"Edge Centrality\"):\n",
    "            vals += [G.edges()[E]['distance'] for E in G.edges()]\n",
    "\n",
    "    resDF = pd.DataFrame(columns=[\"Mean\",\"Std\",\"Var\",\"CV\",\"Skew\",\"Kurt\",\"Med\",\"IQR\",\"QCD\"])\n",
    "    for R in geometricConnectionRs:\n",
    "        measAvg = np.average(measureDict[R])\n",
    "        measStd = np.std(measureDict[R])\n",
    "        measVar = np.var(measureDict[R])\n",
    "        measCV = measStd/measAvg\n",
    "        measSkew = sp.skew(measureDict[R])\n",
    "        measKurt = sp.kurtosis(measureDict[R])\n",
    "        measMed = np.median(measureDict[R])\n",
    "        measIQR = np.percentile(measureDict[R],75)-np.percentile(measureDict[R],25)\n",
    "        measQCD = measIQR/(np.percentile(measureDict[R],75)+np.percentile(measureDict[R],25))\n",
    "        resDF.loc[R] = [measAvg,measStd,measVar,measCV,measSkew,measKurt,measMed,measIQR,measQCD]"
   ]
  },
  {
   "cell_type": "code",
   "execution_count": null,
   "id": "169ca016-ff3b-4a1a-b314-c74fe27a3cab",
   "metadata": {},
   "outputs": [],
   "source": []
  }
 ],
 "metadata": {
  "kernelspec": {
   "display_name": "Python 3 (ipykernel)",
   "language": "python",
   "name": "python3"
  },
  "language_info": {
   "codemirror_mode": {
    "name": "ipython",
    "version": 3
   },
   "file_extension": ".py",
   "mimetype": "text/x-python",
   "name": "python",
   "nbconvert_exporter": "python",
   "pygments_lexer": "ipython3",
   "version": "3.12.3"
  }
 },
 "nbformat": 4,
 "nbformat_minor": 5
}
